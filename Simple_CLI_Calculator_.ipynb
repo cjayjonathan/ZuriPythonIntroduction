{
  "nbformat": 4,
  "nbformat_minor": 0,
  "metadata": {
    "colab": {
      "name": "Simple CLI Calculator .ipynb",
      "provenance": [],
      "authorship_tag": "ABX9TyNjjN264aE1pfEKtWTxG2cH",
      "include_colab_link": true
    },
    "kernelspec": {
      "name": "python3",
      "display_name": "Python 3"
    },
    "language_info": {
      "name": "python"
    }
  },
  "cells": [
    {
      "cell_type": "markdown",
      "metadata": {
        "id": "view-in-github",
        "colab_type": "text"
      },
      "source": [
        "<a href=\"https://colab.research.google.com/github/cjayjonathan/ZuriPythonIntroduction/blob/main/Simple_CLI_Calculator_.ipynb\" target=\"_parent\"><img src=\"https://colab.research.google.com/assets/colab-badge.svg\" alt=\"Open In Colab\"/></a>"
      ]
    },
    {
      "cell_type": "code",
      "execution_count": 1,
      "metadata": {
        "colab": {
          "base_uri": "https://localhost:8080/"
        },
        "id": "o4_flxmco1tx",
        "outputId": "7c09c007-ffec-4b7a-88c6-d31c1705e5f1"
      },
      "outputs": [
        {
          "output_type": "stream",
          "name": "stdout",
          "text": [
            "Welcome to Simple CLI Calculator\n",
            "Starting Calculator Process\n",
            "What operation would you like to perform?\n",
            "Pick any of ['+','-','*', '/', '%'] : +\n",
            "First number: 80\n",
            "Second number: 40\n",
            "120.0\n",
            "Would you like to run another calculation. [y,n] :y\n",
            "Starting Calculator Process\n",
            "What operation would you like to perform?\n",
            "Pick any of ['+','-','*', '/', '%'] : -\n",
            "First number: 50\n",
            "Second number: 50\n",
            "0.0\n",
            "Would you like to run another calculation. [y,n] :y\n",
            "Starting Calculator Process\n",
            "What operation would you like to perform?\n",
            "Pick any of ['+','-','*', '/', '%'] : *\n",
            "First number: 50\n",
            "Second number: 250\n",
            "12500.0\n",
            "Would you like to run another calculation. [y,n] :y\n",
            "What operation would you like to perform?\n",
            "Pick any of ['+','-','*', '/', '%'] : /\n",
            "Starting Calculator Process\n",
            "First number: 1000\n",
            "Second number: 20\n",
            "50.0\n",
            "Would you like to run another calculation. [y,n] :y\n",
            "Starting Calculator Process\n",
            "What operation would you like to perform?\n",
            "Pick any of ['+','-','*', '/', '%'] : %\n",
            "First number: 450\n",
            "Second number: 25\n",
            "0.0\n",
            "Would you like to run another calculation. [y,n] :y\n",
            "Starting Calculator Process\n",
            "What operation would you like to perform?\n",
            "Pick any of ['+','-','*', '/', '%'] : +\n",
            "First number: aaa\n",
            "Failed, invalid numbers...\n",
            "Starting Calculator Process\n",
            "What operation would you like to perform?\n",
            "Pick any of ['+','-','*', '/', '%'] : +\n",
            "First number: 450\n",
            "Second number: 25\n",
            "475.0\n",
            "Would you like to run another calculation. [y,n] :n\n",
            "Thanks for using the Calculator, bye bye...\n"
          ]
        }
      ],
      "source": [
        "# Simple CLI Calculator\n",
        "print(\"Welcome to Simple CLI Calculator\")\n",
        "\n",
        "is_running = True \n",
        "\n",
        "while is_running:\n",
        "    # Processing Calculations...\n",
        "    print(\"Starting Calculator Process\")\n",
        "    user_operation = input(\"What operation would you like to perform?\\nPick any of ['+','-','*', '/', '%'] : \")\n",
        "\n",
        "    # Get user numbers\n",
        "    try: # Try to get user numbers, if they're valid integers/floats, continue\n",
        "        no1 = float(input(\"First number: \"))\n",
        "        no2 = float(input(\"Second number: \"))\n",
        "    \n",
        "    except: # We get an error when running it\n",
        "        print(\"Failed, invalid numbers...\")\n",
        "        continue \n",
        "\n",
        "\n",
        "    if user_operation == \"+\":\n",
        "        # perform addition\n",
        "        print(no1 + no2)\n",
        "\n",
        "    elif user_operation == \"-\":\n",
        "        # perform subtraction\n",
        "        print(no1 - no2)\n",
        "\n",
        "    elif user_operation == \"*\":\n",
        "        # perform multiplication\n",
        "        print(no1 * no2)\n",
        "\n",
        "    elif user_operation == \"/\":\n",
        "        # perform division\n",
        "        print(no1 / no2)\n",
        "\n",
        "    elif user_operation == \"%\":\n",
        "        # perform division\n",
        "        print(no1 % no2)\n",
        "\n",
        "    else:\n",
        "        # Invalid operation\n",
        "        print(\"Invalid operation entered, try again...\")\n",
        "    \n",
        "    choice = input(\"Would you like to run another calculation. [y,n] :\")\n",
        "    if choice == \"y\":\n",
        "        pass \n",
        "    \n",
        "    if choice == \"n\":\n",
        "        is_running = False \n",
        "        # This is the same thing as a break.\n",
        "\n",
        "print(\"Thanks for using the Calculator, bye bye...\")\n",
        "\n",
        "# Ctrl + C to exit any Python program...!"
      ]
    }
  ]
}