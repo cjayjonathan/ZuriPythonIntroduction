{
  "nbformat": 4,
  "nbformat_minor": 0,
  "metadata": {
    "colab": {
      "name": "Loops and Branches.ipynb",
      "provenance": [],
      "authorship_tag": "ABX9TyOqtLMEdT19a7/q2npjb6cB",
      "include_colab_link": true
    },
    "kernelspec": {
      "name": "python3",
      "display_name": "Python 3"
    },
    "language_info": {
      "name": "python"
    }
  },
  "cells": [
    {
      "cell_type": "markdown",
      "metadata": {
        "id": "view-in-github",
        "colab_type": "text"
      },
      "source": [
        "<a href=\"https://colab.research.google.com/github/cjayjonathan/ZuriPythonIntroduction/blob/main/Loops_and_Branches.ipynb\" target=\"_parent\"><img src=\"https://colab.research.google.com/assets/colab-badge.svg\" alt=\"Open In Colab\"/></a>"
      ]
    },
    {
      "cell_type": "code",
      "execution_count": 1,
      "metadata": {
        "colab": {
          "base_uri": "https://localhost:8080/"
        },
        "id": "tcoJOh33mQhF",
        "outputId": "f5049911-da7d-4f85-da0c-aa06092e890d"
      },
      "outputs": [
        {
          "output_type": "stream",
          "name": "stdout",
          "text": [
            "10 is less than 20\n",
            "a is not equal to b\n",
            "Running true block\n"
          ]
        }
      ],
      "source": [
        "# if\n",
        "\n",
        "if 10 < 20:\n",
        "    print(\"10 is less than 20\")\n",
        "\n",
        "if 5 == 20:\n",
        "    print(\"5 is equal to 20\")\n",
        "\n",
        "# elif --> else if\n",
        "if \"a\" == \"b\":\n",
        "    print(\"a is the same as b\")\n",
        "\n",
        "elif \"a\" != \"b\":\n",
        "    print(\"a is not equal to b\")\n",
        "\n",
        "elif 100 < 200:\n",
        "    print(\"100 is less than 200\")\n",
        "\n",
        "# else\n",
        "our_flag = 500 == 1000 # our_flag = False\n",
        "\n",
        "if our_flag:\n",
        "    print(\"500 is equal to 1000\")\n",
        "\n",
        "elif False:\n",
        "    print(\"80 is greater than 90\")\n",
        "\n",
        "elif True:\n",
        "    print(\"Running true block\")\n",
        "\n",
        "else:\n",
        "    print(\"Running the else block\")"
      ]
    }
  ]
}