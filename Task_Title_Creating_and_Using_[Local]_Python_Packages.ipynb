{
  "nbformat": 4,
  "nbformat_minor": 0,
  "metadata": {
    "colab": {
      "name": "Task Title: Creating and Using [Local] Python Packages.ipynb",
      "provenance": [],
      "authorship_tag": "ABX9TyPfV5JVd378hgCKhlWAu38z",
      "include_colab_link": true
    },
    "kernelspec": {
      "name": "python3",
      "display_name": "Python 3"
    },
    "language_info": {
      "name": "python"
    }
  },
  "cells": [
    {
      "cell_type": "markdown",
      "metadata": {
        "id": "view-in-github",
        "colab_type": "text"
      },
      "source": [
        "<a href=\"https://colab.research.google.com/github/cjayjonathan/ZuriPythonIntroduction/blob/main/Task_Title_Creating_and_Using_%5BLocal%5D_Python_Packages.ipynb\" target=\"_parent\"><img src=\"https://colab.research.google.com/assets/colab-badge.svg\" alt=\"Open In Colab\"/></a>"
      ]
    },
    {
      "cell_type": "code",
      "source": [
        "# \"R\" for \"rock\", \n",
        "# \"P\" for \"paper\", \n",
        "# \"S\" for \"scissors\"\n",
        "\n",
        "import random\n",
        "user_action = input(\"Enter a choice (R, P, S): \")\n",
        "possible_actions = [\"R\", \"P\", \"S\"]\n",
        "computer_action = random.choice(possible_actions)\n",
        "print(f\"\\nYou chose {user_action}, computer chose {computer_action}.\\n\")\n",
        "if user_action == computer_action:\n",
        "    print(f\"Both players selected {user_action}. It's a tie!\")\n",
        "elif user_action == \"R\":\n",
        "    if computer_action == \"S\":\n",
        "        print(\"Rock smashes scissors! You win!\")\n",
        "    else:\n",
        "        print(\"Paper covers rock! You lose.\")\n",
        "elif user_action == \"P\":\n",
        "    if computer_action == \"R\":\n",
        "        print(\"Paper covers rock! You win!\")\n",
        "    else:\n",
        "        print(\"Scissors cuts paper! You lose.\")\n",
        "elif user_action == \"S\":\n",
        "    if computer_action == \"P\":\n",
        "        print(\"Scissors cuts paper! You win!\")\n",
        "    else:\n",
        "        print(\"Rock smashes scissors! You lose.\")"
      ],
      "metadata": {
        "colab": {
          "base_uri": "https://localhost:8080/"
        },
        "id": "GEdH2uFDlW2X",
        "outputId": "36273404-37c4-473f-cded-45c349b27b0a"
      },
      "execution_count": 5,
      "outputs": [
        {
          "output_type": "stream",
          "name": "stdout",
          "text": [
            "Enter a choice (R, P, S): P\n",
            "\n",
            "You chose P, computer chose P.\n",
            "\n",
            "Both players selected P. It's a tie!\n"
          ]
        }
      ]
    }
  ]
}