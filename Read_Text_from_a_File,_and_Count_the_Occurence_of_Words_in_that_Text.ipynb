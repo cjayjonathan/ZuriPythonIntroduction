{
  "nbformat": 4,
  "nbformat_minor": 0,
  "metadata": {
    "colab": {
      "name": "Read Text from a File, and Count the Occurence of Words in that Text.ipynb",
      "provenance": [],
      "authorship_tag": "ABX9TyOwdNUbswGUuXfS1OVRRK/z",
      "include_colab_link": true
    },
    "kernelspec": {
      "name": "python3",
      "display_name": "Python 3"
    },
    "language_info": {
      "name": "python"
    }
  },
  "cells": [
    {
      "cell_type": "markdown",
      "metadata": {
        "id": "view-in-github",
        "colab_type": "text"
      },
      "source": [
        "<a href=\"https://colab.research.google.com/github/cjayjonathan/ZuriPythonIntroduction/blob/main/Read_Text_from_a_File%2C_and_Count_the_Occurence_of_Words_in_that_Text.ipynb\" target=\"_parent\"><img src=\"https://colab.research.google.com/assets/colab-badge.svg\" alt=\"Open In Colab\"/></a>"
      ]
    },
    {
      "cell_type": "code",
      "execution_count": 7,
      "metadata": {
        "id": "Er690d7i05I5"
      },
      "outputs": [],
      "source": [
        "# Read text from a file, and count the occurence of words in that text\n",
        "# Example:\n",
        "# count_words(\"The cake is done. It is a big cake!\") \n",
        "# --> {\"cake\":2, \"big\":1, \"is\":2, \"the\":1, \"a\":1, \"it\":1}\n",
        "def read_file_content(story):\n",
        "    f = open(\"C:\\\\Users\\\\ALH.YAHYA\\\\Desktop\\\\Reading-Text-Files\\\\story.txt\", \"r\")    \n",
        "    return \"Hello World\"\n",
        "    contents = f.read()\n",
        "    print(contents)"
      ]
    },
    {
      "cell_type": "code",
      "source": [
        "# Read text from a file, and count the occurence of words in that text\n",
        "# Example:\n",
        "# count_words(\"The cake is done. It is a big cake!\") \n",
        "# --> {\"cake\":2, \"big\":1, \"is\":2, \"the\":1, \"a\":1, \"it\":1}\n",
        "\n",
        "def read_file_content(story):\n",
        "    file = open(\"C:\\\\Users\\\\ALH.YAHYA\\\\Desktop\\\\Reading-Text-Files\\\\story.txt\", \"r\")\n",
        "    data = file.read() \n",
        "    \n",
        "    return \"Hello World\"\n",
        "    print(file)\n",
        "\n",
        "\n",
        "def count_words():\n",
        "    text = read_file_content(\"C:\\\\Users\\\\ALH.YAHYA\\\\Desktop\\\\Reading-Text-Files\\\\story.txt\")\n",
        "    # [assignment] Add your code here\n",
        "    occurences = data.count(\"as\", \"would\")\n",
        "\n",
        "    print('Number of occurences of the words :', occurences)\n",
        "\n",
        "    return {\"as\": 10, \"would\": 20}\n",
        "    "
      ],
      "metadata": {
        "id": "lAJR8lv_1GsU"
      },
      "execution_count": 8,
      "outputs": []
    },
    {
      "cell_type": "code",
      "source": [
        "# Read text from a file, and count the occurence of words in that text\n",
        "# Example:\n",
        "# count_words(\"The cake is done. It is a big cake!\") \n",
        "# --> {\"cake\":2, \"big\":1, \"is\":2, \"the\":1, \"a\":1, \"it\":1}\n",
        "from collections import defaultdict\n",
        "import re\n",
        "text = \"\"\"Once upon a time a psychology professor walked around on a stage while teaching stress management principles to an auditorium filled with students.  \n",
        "As she raised a glass of water, everyone expected they would be asked the typical glass half empty or glass half full question.  \n",
        "Instead, with a smile on her face, the professor asked, How heavy is this glass of water I am holding?\"\"\"\n",
        "counts = defaultdict(int)\n",
        "for word in re.findall('\\w+' , text):\n",
        "    counts[word] += 1\n",
        "print(counts)\n"
      ],
      "metadata": {
        "colab": {
          "base_uri": "https://localhost:8080/"
        },
        "id": "Mju6gAlw8IvC",
        "outputId": "07c6a3e3-cd06-4d79-87f8-e8b907b8d62a"
      },
      "execution_count": 25,
      "outputs": [
        {
          "output_type": "stream",
          "name": "stdout",
          "text": [
            "defaultdict(<class 'int'>, {'Once': 1, 'upon': 1, 'a': 5, 'time': 1, 'psychology': 1, 'professor': 2, 'walked': 1, 'around': 1, 'on': 2, 'stage': 1, 'while': 1, 'teaching': 1, 'stress': 1, 'management': 1, 'principles': 1, 'to': 1, 'an': 1, 'auditorium': 1, 'filled': 1, 'with': 2, 'students': 1, 'As': 1, 'she': 1, 'raised': 1, 'glass': 4, 'of': 2, 'water': 2, 'everyone': 1, 'expected': 1, 'they': 1, 'would': 1, 'be': 1, 'asked': 2, 'the': 2, 'typical': 1, 'half': 2, 'empty': 1, 'or': 1, 'full': 1, 'question': 1, 'Instead': 1, 'smile': 1, 'her': 1, 'face': 1, 'How': 1, 'heavy': 1, 'is': 1, 'this': 1, 'I': 1, 'am': 1, 'holding': 1})\n"
          ]
        }
      ]
    }
  ]
}