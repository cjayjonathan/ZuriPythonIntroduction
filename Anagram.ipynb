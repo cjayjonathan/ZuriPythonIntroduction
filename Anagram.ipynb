{
  "nbformat": 4,
  "nbformat_minor": 0,
  "metadata": {
    "colab": {
      "name": "Anagram.ipynb",
      "provenance": [],
      "authorship_tag": "ABX9TyNEBMYUbEnZhau7cEbDijWH",
      "include_colab_link": true
    },
    "kernelspec": {
      "name": "python3",
      "display_name": "Python 3"
    },
    "language_info": {
      "name": "python"
    }
  },
  "cells": [
    {
      "cell_type": "markdown",
      "metadata": {
        "id": "view-in-github",
        "colab_type": "text"
      },
      "source": [
        "<a href=\"https://colab.research.google.com/github/cjayjonathan/ZuriPythonIntroduction/blob/main/Anagram.ipynb\" target=\"_parent\"><img src=\"https://colab.research.google.com/assets/colab-badge.svg\" alt=\"Open In Colab\"/></a>"
      ]
    },
    {
      "cell_type": "code",
      "execution_count": 4,
      "metadata": {
        "colab": {
          "base_uri": "https://localhost:8080/"
        },
        "id": "CtEQSWXKVbdE",
        "outputId": "e04ba9f2-e447-481d-a567-bc46581b9830"
      },
      "outputs": [
        {
          "output_type": "execute_result",
          "data": {
            "text/plain": [
              "False"
            ]
          },
          "metadata": {},
          "execution_count": 4
        }
      ],
      "source": [
        "# Check if two words are anagrams \n",
        "# Example:\n",
        "# find_anagrams(\"hello\", \"check\") --> False\n",
        "# find_anagrams(\"below\", \"elbow\") --> True\n",
        "\n",
        "\n",
        "def find_anagram(word, anagram):\n",
        "    # [assignment] Add your code here\n",
        "    if (sorted(word) == sorted(anagram)):\n",
        "        return True\n",
        "    else:\n",
        "        return False\n",
        "word = \"hello\"\n",
        "anagram = \"check\"\n",
        "find_anagram(word, anagram)"
      ]
    },
    {
      "cell_type": "code",
      "source": [
        "# Check if two words are anagrams \n",
        "# Example:\n",
        "# find_anagrams(\"hello\", \"check\") --> False\n",
        "# find_anagrams(\"below\", \"elbow\") --> True\n",
        "\n",
        "\n",
        "def find_anagram(word, anagram):\n",
        "    # [assignment] Add your code here\n",
        "    if (sorted(word) == sorted(anagram)):\n",
        "        return True\n",
        "    else:\n",
        "        return False\n",
        "word = \"below\"\n",
        "anagram = \"elbow\"\n",
        "find_anagram(word, anagram)"
      ],
      "metadata": {
        "colab": {
          "base_uri": "https://localhost:8080/"
        },
        "id": "ciNujXKrWYzD",
        "outputId": "d9205fd8-77c3-4772-f29e-021f5b2e31af"
      },
      "execution_count": 5,
      "outputs": [
        {
          "output_type": "execute_result",
          "data": {
            "text/plain": [
              "True"
            ]
          },
          "metadata": {},
          "execution_count": 5
        }
      ]
    }
  ]
}