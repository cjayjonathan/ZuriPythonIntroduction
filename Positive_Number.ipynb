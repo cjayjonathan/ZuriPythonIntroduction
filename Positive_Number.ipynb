{
  "nbformat": 4,
  "nbformat_minor": 0,
  "metadata": {
    "colab": {
      "name": "Positive_Number.ipynb",
      "provenance": [],
      "authorship_tag": "ABX9TyN5c0DZ/Msam2KNpYJwGnGi",
      "include_colab_link": true
    },
    "kernelspec": {
      "name": "python3",
      "display_name": "Python 3"
    },
    "language_info": {
      "name": "python"
    }
  },
  "cells": [
    {
      "cell_type": "markdown",
      "metadata": {
        "id": "view-in-github",
        "colab_type": "text"
      },
      "source": [
        "<a href=\"https://colab.research.google.com/github/cjayjonathan/ZuriPythonIntroduction/blob/main/Positive_Number.ipynb\" target=\"_parent\"><img src=\"https://colab.research.google.com/assets/colab-badge.svg\" alt=\"Open In Colab\"/></a>"
      ]
    },
    {
      "cell_type": "code",
      "execution_count": 3,
      "metadata": {
        "colab": {
          "base_uri": "https://localhost:8080/"
        },
        "id": "Ul3nWmdcn2FW",
        "outputId": "da7c46bc-452c-4feb-d9bc-3fcbe125c2e5"
      },
      "outputs": [
        {
          "output_type": "stream",
          "name": "stdout",
          "text": [
            "Enter a number: -12\n",
            "Hooray, you entered a number\n",
            "False\n"
          ]
        }
      ],
      "source": [
        "user_no = input(\"Enter a number: \")\n",
        "\n",
        "# Validation\n",
        "try:\n",
        "    # Runs if input is valid\n",
        "    user_no = float(user_no)\n",
        "    print(\"Hooray, you entered a number\")\n",
        "\n",
        "    if user_no >= 0:\n",
        "        print(\"True\")\n",
        "    \n",
        "    else:\n",
        "        print(\"False\")\n",
        "\n",
        "except:\n",
        "    # Runs if input is invalid\n",
        "    print(\"User input is not a number. Please enter a number\")"
      ]
    }
  ]
}