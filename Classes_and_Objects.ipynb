{
  "nbformat": 4,
  "nbformat_minor": 0,
  "metadata": {
    "colab": {
      "name": "Classes and Objects.ipynb",
      "provenance": [],
      "authorship_tag": "ABX9TyNpBF4hSYxbKD93VbSVEs8J",
      "include_colab_link": true
    },
    "kernelspec": {
      "name": "python3",
      "display_name": "Python 3"
    },
    "language_info": {
      "name": "python"
    }
  },
  "cells": [
    {
      "cell_type": "markdown",
      "metadata": {
        "id": "view-in-github",
        "colab_type": "text"
      },
      "source": [
        "<a href=\"https://colab.research.google.com/github/cjayjonathan/ZuriPythonIntroduction/blob/main/Classes_and_Objects.ipynb\" target=\"_parent\"><img src=\"https://colab.research.google.com/assets/colab-badge.svg\" alt=\"Open In Colab\"/></a>"
      ]
    },
    {
      "cell_type": "code",
      "execution_count": 26,
      "metadata": {
        "id": "5W14CwhuFJ3M",
        "colab": {
          "base_uri": "https://localhost:8080/"
        },
        "outputId": "7ee88957-ebbf-4d3f-9822-c4cf0c7c41f2"
      },
      "outputs": [
        {
          "output_type": "execute_result",
          "data": {
            "text/plain": [
              "20.9"
            ]
          },
          "metadata": {},
          "execution_count": 26
        }
      ],
      "source": [
        "class Student:\n",
        "    # [assignment] Skeleton class. Add your code here\n",
        "    def __init__(self, name, age, tracks=[], score=[]):\n",
        "        self.name = name\n",
        "        self.age = age\n",
        "        self.tracks = tracks\n",
        "        self.score = score\n",
        "    def change_name(self, new_name):\n",
        "        self.name = new_name\n",
        "\t\t\n",
        "    def change_age(self, new_age):\n",
        "        if type(new_age) is int:\n",
        "            self.age = int(new_age)\n",
        "        else:\n",
        "            self.age = 0\n",
        "\t\t\t\n",
        "    def add_track(self, new_track):\n",
        "        self.tracks.append(new_track)\n",
        "\t\t\n",
        "    def get_score(self):\n",
        "        return self.score\n",
        "\t\t\n",
        "    def repr(self):\n",
        "        return f'Name: {self.name} Age: {self.age} Tracks: {self.tracks} Score: {self.score}'\n",
        "\n",
        "\n",
        "Bob = Student(name=\"Bob\", age=26, tracks=[\"FE\",\"BE\"], score=20.90)\n",
        "\n",
        "# Expected methods\n",
        "Bob.change_name(\"Peter\")\n",
        "Bob.change_age(34)\n",
        "Bob.add_track(\"UI/UX\")\n",
        "Bob.get_score()\n"
      ]
    }
  ]
}