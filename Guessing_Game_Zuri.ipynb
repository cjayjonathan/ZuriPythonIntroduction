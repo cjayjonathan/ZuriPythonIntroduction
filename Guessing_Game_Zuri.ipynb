{
  "nbformat": 4,
  "nbformat_minor": 0,
  "metadata": {
    "colab": {
      "name": "Guessing Game Zuri.ipynb",
      "provenance": [],
      "authorship_tag": "ABX9TyNUGPXJarFvI2QPDPyI99d6",
      "include_colab_link": true
    },
    "kernelspec": {
      "name": "python3",
      "display_name": "Python 3"
    },
    "language_info": {
      "name": "python"
    }
  },
  "cells": [
    {
      "cell_type": "markdown",
      "metadata": {
        "id": "view-in-github",
        "colab_type": "text"
      },
      "source": [
        "<a href=\"https://colab.research.google.com/github/cjayjonathan/ZuriPythonIntroduction/blob/main/Guessing_Game_Zuri.ipynb\" target=\"_parent\"><img src=\"https://colab.research.google.com/assets/colab-badge.svg\" alt=\"Open In Colab\"/></a>"
      ]
    },
    {
      "cell_type": "code",
      "execution_count": 7,
      "metadata": {
        "id": "LBagqWDsIgT0",
        "colab": {
          "base_uri": "https://localhost:8080/"
        },
        "outputId": "adc4286b-0a16-4391-c930-f22bf52b4576"
      },
      "outputs": [
        {
          "output_type": "stream",
          "name": "stdout",
          "text": [
            "Enter your guess: 10\n",
            "Success, you guessed the number! Our favourite is: 10\n"
          ]
        }
      ],
      "source": [
        "# Store the number to guess as our_fav_number\n",
        "our_fav_number = 10\n",
        "\n",
        "# Take user input\n",
        "user_guess = input(\"Enter your guess: \")\n",
        "\n",
        "# User guess \n",
        "user_guess = int(user_guess)\n",
        "\n",
        "# print(type(user_guess))\n",
        "\n",
        "# < == > >= <= \n",
        "\n",
        "if user_guess == our_fav_number:\n",
        "    print(\"Success, you guessed the number! Our favourite is: \" + str(our_fav_number))\n",
        "\n",
        "if user_guess < our_fav_number:\n",
        "    print(\"Your guess is too low. Try a little higher\")\n",
        "\n",
        "if user_guess > our_fav_number:\n",
        "    print(\"Your guess is too high. Try a little lower\")"
      ]
    },
    {
      "cell_type": "code",
      "source": [
        ""
      ],
      "metadata": {
        "id": "AnFDqockjpu2"
      },
      "execution_count": null,
      "outputs": []
    }
  ]
}