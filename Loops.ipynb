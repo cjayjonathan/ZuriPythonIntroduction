{
  "nbformat": 4,
  "nbformat_minor": 0,
  "metadata": {
    "colab": {
      "name": "Loops.ipynb",
      "provenance": [],
      "authorship_tag": "ABX9TyNOm1IPkBARFGHe5YXE1viS",
      "include_colab_link": true
    },
    "kernelspec": {
      "name": "python3",
      "display_name": "Python 3"
    },
    "language_info": {
      "name": "python"
    }
  },
  "cells": [
    {
      "cell_type": "markdown",
      "metadata": {
        "id": "view-in-github",
        "colab_type": "text"
      },
      "source": [
        "<a href=\"https://colab.research.google.com/github/cjayjonathan/ZuriPythonIntroduction/blob/main/Loops.ipynb\" target=\"_parent\"><img src=\"https://colab.research.google.com/assets/colab-badge.svg\" alt=\"Open In Colab\"/></a>"
      ]
    },
    {
      "cell_type": "code",
      "execution_count": 2,
      "metadata": {
        "colab": {
          "base_uri": "https://localhost:8080/"
        },
        "id": "aTC-ILxniI0U",
        "outputId": "236a6c89-ba40-45d8-adc4-90f42175b262"
      },
      "outputs": [
        {
          "output_type": "stream",
          "name": "stdout",
          "text": [
            "The Hour of the day is  0\n",
            "The Hour of the day is  1\n",
            "The Hour of the day is  2\n",
            "The Hour of the day is  3\n",
            "The Hour of the day is  4\n",
            "The Hour of the day is  5\n",
            "The Hour of the day is  6\n",
            "The Hour of the day is  7\n",
            "The Hour of the day is  8\n",
            "The Hour of the day is  9\n",
            "The Hour of the day is  10\n",
            "Waking up!\n",
            "We've woken up!\n"
          ]
        }
      ],
      "source": [
        "# While Loops\n",
        "\n",
        "is_nighttime = True \n",
        "\n",
        "hour_of_the_day = 0\n",
        "\n",
        "\n",
        "# When it is 10, we should wake up\n",
        "\n",
        "while is_nighttime:\n",
        "    print(\"The Hour of the day is \", hour_of_the_day)\n",
        "\n",
        "    if hour_of_the_day == 10:\n",
        "        print(\"Waking up!\")\n",
        "        break\n",
        "    \n",
        "    # Keep sleeping\n",
        "    hour_of_the_day = hour_of_the_day + 1\n",
        "    \n",
        "    \n",
        "\n",
        "# Wake up and start your day\n",
        "\n",
        "print(\"We've woken up!\")"
      ]
    }
  ]
}